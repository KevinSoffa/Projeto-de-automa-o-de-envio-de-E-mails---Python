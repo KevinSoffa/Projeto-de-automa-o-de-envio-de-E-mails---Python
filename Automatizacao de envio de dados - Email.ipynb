{
 "cells": [
  {
   "cell_type": "markdown",
   "metadata": {},
   "source": [
    "# Kevin Soffa\n",
    "\n"
   ]
  },
  {
   "cell_type": "code",
   "execution_count": null,
   "metadata": {},
   "outputs": [],
   "source": []
  },
  {
   "cell_type": "markdown",
   "metadata": {},
   "source": [
    "## Passo 1\n",
    "### Pegar a lista de e-mails de cada gerente"
   ]
  },
  {
   "cell_type": "code",
   "execution_count": 1,
   "metadata": {},
   "outputs": [
    {
     "data": {
      "text/html": [
       "<div>\n",
       "<style scoped>\n",
       "    .dataframe tbody tr th:only-of-type {\n",
       "        vertical-align: middle;\n",
       "    }\n",
       "\n",
       "    .dataframe tbody tr th {\n",
       "        vertical-align: top;\n",
       "    }\n",
       "\n",
       "    .dataframe thead th {\n",
       "        text-align: right;\n",
       "    }\n",
       "</style>\n",
       "<table border=\"1\" class=\"dataframe\">\n",
       "  <thead>\n",
       "    <tr style=\"text-align: right;\">\n",
       "      <th></th>\n",
       "      <th>Gerente</th>\n",
       "      <th>E-mail</th>\n",
       "      <th>Relatório</th>\n",
       "    </tr>\n",
       "  </thead>\n",
       "  <tbody>\n",
       "    <tr>\n",
       "      <th>0</th>\n",
       "      <td>Lira</td>\n",
       "      <td>kevin@gmail.com</td>\n",
       "      <td>Vendas</td>\n",
       "    </tr>\n",
       "    <tr>\n",
       "      <th>1</th>\n",
       "      <td>Julia</td>\n",
       "      <td>kevin@gmail.com</td>\n",
       "      <td>Produção</td>\n",
       "    </tr>\n",
       "    <tr>\n",
       "      <th>2</th>\n",
       "      <td>José</td>\n",
       "      <td>kevin@gmail.com</td>\n",
       "      <td>Manutenção</td>\n",
       "    </tr>\n",
       "    <tr>\n",
       "      <th>3</th>\n",
       "      <td>Gustavo</td>\n",
       "      <td>kevin@gmail.com</td>\n",
       "      <td>Operações</td>\n",
       "    </tr>\n",
       "    <tr>\n",
       "      <th>4</th>\n",
       "      <td>Ana</td>\n",
       "      <td>kevin@gmail.com</td>\n",
       "      <td>Logística</td>\n",
       "    </tr>\n",
       "    <tr>\n",
       "      <th>5</th>\n",
       "      <td>Paula</td>\n",
       "      <td>kevin@gmail.com</td>\n",
       "      <td>Financeiro</td>\n",
       "    </tr>\n",
       "    <tr>\n",
       "      <th>6</th>\n",
       "      <td>Maria</td>\n",
       "      <td>kevin@gmail.com</td>\n",
       "      <td>Marketing</td>\n",
       "    </tr>\n",
       "  </tbody>\n",
       "</table>\n",
       "</div>"
      ],
      "text/plain": [
       "   Gerente           E-mail   Relatório\n",
       "0     Lira  kevin@gmail.com      Vendas\n",
       "1    Julia  kevin@gmail.com    Produção\n",
       "2     José  kevin@gmail.com  Manutenção\n",
       "3  Gustavo  kevin@gmail.com   Operações\n",
       "4      Ana  kevin@gmail.com   Logística\n",
       "5    Paula  kevin@gmail.com  Financeiro\n",
       "6    Maria  kevin@gmail.com   Marketing"
      ]
     },
     "metadata": {},
     "output_type": "display_data"
    }
   ],
   "source": [
    "import pandas as pd\n",
    "emails_gerentes = pd.read_excel('Enviar E-mails.xlsx')\n",
    "display(emails_gerentes)"
   ]
  },
  {
   "cell_type": "markdown",
   "metadata": {},
   "source": [
    "## Passo 2\n",
    "Enviar com um FOR um email para cada gerente"
   ]
  },
  {
   "cell_type": "code",
   "execution_count": 11,
   "metadata": {},
   "outputs": [],
   "source": [
    "import yagmail\n",
    "usuario = yagmail.SMTP(user='kevin@gmail.com', password='9999999') # Email fictício\n",
    "\n",
    "for i, email in enumerate(emails_gerentes ['E-mail']):\n",
    "    gerente = emails_gerentes.loc[i, 'Gerente' ]\n",
    "    area = emails_gerentes.loc[i, 'Relatório']\n",
    "    \n",
    "    usuario.send(to = email, subject= f'Relatório Financeiro {area}', \\\n",
    "                contents= f\"\"\" Prezado(a) {gerente}.\n",
    "                Segue em anexo o relatório de {area}, conforme solicitado.\n",
    "                Qualquer duvida estou a disposição.\n",
    "                Att. Kevin Soffa.\n",
    "                \"\"\", attachments= f'{area}.xlsx')\n"
   ]
  },
  {
   "cell_type": "markdown",
   "metadata": {},
   "source": [
    "## Fim do Programa"
   ]
  }
 ],
 "metadata": {
  "kernelspec": {
   "display_name": "Python 3",
   "language": "python",
   "name": "python3"
  },
  "language_info": {
   "codemirror_mode": {
    "name": "ipython",
    "version": 3
   },
   "file_extension": ".py",
   "mimetype": "text/x-python",
   "name": "python",
   "nbconvert_exporter": "python",
   "pygments_lexer": "ipython3",
   "version": "3.8.8"
  }
 },
 "nbformat": 4,
 "nbformat_minor": 4
}
